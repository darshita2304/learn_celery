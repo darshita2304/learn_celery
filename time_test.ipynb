{
 "cells": [
  {
   "cell_type": "code",
   "execution_count": 3,
   "metadata": {},
   "outputs": [
    {
     "name": "stdout",
     "output_type": "stream",
     "text": [
      "Local time zone: Asia/Calcutta\n"
     ]
    },
    {
     "ename": "AttributeError",
     "evalue": "'zoneinfo.ZoneInfo' object has no attribute 'localize'",
     "output_type": "error",
     "traceback": [
      "\u001b[1;31m---------------------------------------------------------------------------\u001b[0m",
      "\u001b[1;31mAttributeError\u001b[0m                            Traceback (most recent call last)",
      "Cell \u001b[1;32mIn[3], line 21\u001b[0m\n\u001b[0;32m     18\u001b[0m naive_date_time_obj \u001b[38;5;241m=\u001b[39m datetime\u001b[38;5;241m.\u001b[39mstrptime(date_string, date_format)\n\u001b[0;32m     20\u001b[0m \u001b[38;5;66;03m# Convert the naive datetime object to a timezone-aware datetime object\u001b[39;00m\n\u001b[1;32m---> 21\u001b[0m date_time_obj \u001b[38;5;241m=\u001b[39m \u001b[43mlocal_timezone\u001b[49m\u001b[38;5;241;43m.\u001b[39;49m\u001b[43mlocalize\u001b[49m(naive_date_time_obj)\n\u001b[0;32m     22\u001b[0m \u001b[38;5;28mprint\u001b[39m(\u001b[38;5;124mf\u001b[39m\u001b[38;5;124m\"\u001b[39m\u001b[38;5;124mTimezone-aware datetime: \u001b[39m\u001b[38;5;132;01m{\u001b[39;00mdate_time_obj\u001b[38;5;132;01m}\u001b[39;00m\u001b[38;5;124m\"\u001b[39m)\n",
      "\u001b[1;31mAttributeError\u001b[0m: 'zoneinfo.ZoneInfo' object has no attribute 'localize'"
     ]
    }
   ],
   "source": [
    "from datetime import datetime\n",
    "from tzlocal import get_localzone\n",
    "import pytz\n",
    "\n",
    "# Get the local time zone\n",
    "local_timezone = get_localzone()\n",
    "\n",
    "# Print the local time zone\n",
    "print(f\"Local time zone: {local_timezone}\")\n",
    "\n",
    "# Define the input string\n",
    "date_string = \"2024-06-21T10:10\"\n",
    "\n",
    "# Define the format corresponding to the input string\n",
    "date_format = \"%Y-%m-%dT%H:%M\"\n",
    "\n",
    "# Convert the string to a naive datetime object\n",
    "naive_date_time_obj = datetime.strptime(date_string, date_format)\n",
    "\n",
    "# Convert the naive datetime object to a timezone-aware datetime object\n",
    "date_time_obj = local_timezone.localize(naive_date_time_obj)\n",
    "print(f\"Timezone-aware datetime: {date_time_obj}\")"
   ]
  },
  {
   "cell_type": "code",
   "execution_count": 5,
   "metadata": {},
   "outputs": [
    {
     "name": "stdout",
     "output_type": "stream",
     "text": [
      "Local timezone-aware datetime: 2024-06-20 11:10:00-04:00\n",
      "UTC timezone-aware datetime: 2024-06-20 15:10:00+00:00\n"
     ]
    }
   ],
   "source": [
    "from datetime import datetime\n",
    "from zoneinfo import ZoneInfo\n",
    "\n",
    "# Get the local time zone using zoneinfo\n",
    "# Replace with your local timezone\n",
    "local_timezone = ZoneInfo(\"America/New_York\")\n",
    "\n",
    "# Define the input string\n",
    "date_string = \"2024-06-20T11:10\"\n",
    "\n",
    "# Define the format corresponding to the input string\n",
    "date_format = \"%Y-%m-%dT%H:%M\"\n",
    "\n",
    "# Convert the string to a naive datetime object\n",
    "naive_date_time_obj = datetime.strptime(date_string, date_format)\n",
    "\n",
    "# Convert the naive datetime object to a timezone-aware datetime object in local time zone\n",
    "local_date_time_obj = naive_date_time_obj.replace(tzinfo=local_timezone)\n",
    "\n",
    "# Print the local timezone-aware datetime object\n",
    "print(f\"Local timezone-aware datetime: {local_date_time_obj}\")\n",
    "\n",
    "# Convert the local timezone-aware datetime object to UTC\n",
    "utc_date_time_obj = local_date_time_obj.astimezone(ZoneInfo(\"UTC\"))\n",
    "\n",
    "# Print the UTC timezone-aware datetime object\n",
    "print(f\"UTC timezone-aware datetime: {utc_date_time_obj}\")"
   ]
  },
  {
   "cell_type": "code",
   "execution_count": null,
   "metadata": {},
   "outputs": [],
   "source": []
  }
 ],
 "metadata": {
  "kernelspec": {
   "display_name": "Python 3",
   "language": "python",
   "name": "python3"
  },
  "language_info": {
   "codemirror_mode": {
    "name": "ipython",
    "version": 3
   },
   "file_extension": ".py",
   "mimetype": "text/x-python",
   "name": "python",
   "nbconvert_exporter": "python",
   "pygments_lexer": "ipython3",
   "version": "3.9.19"
  }
 },
 "nbformat": 4,
 "nbformat_minor": 2
}
